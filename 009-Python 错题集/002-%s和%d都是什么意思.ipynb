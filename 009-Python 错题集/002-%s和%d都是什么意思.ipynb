{
 "cells": [
  {
   "cell_type": "markdown",
   "metadata": {},
   "source": [
    "# 描述\n",
    "`%s`,表示格化式一个对象为字符\n",
    "`%d`,整数\n",
    "\n",
    "`%`字符：标记转换说明符的开始。\n",
    "在`%`的左侧放置一个字符串（格式化字符串），而右侧则放置希望格式化的值。\n",
    "\n",
    "# 实例"
   ]
  },
  {
   "cell_type": "code",
   "execution_count": 4,
   "metadata": {},
   "outputs": [
    {
     "name": "stdout",
     "output_type": "stream",
     "text": [
      "Hello, zhang3\n",
      "33\n",
      "ab:3\n"
     ]
    }
   ],
   "source": [
    "print(\"Hello, %s\"%\"zhang3\")\n",
    "print(\"%d\"%33)\n",
    "print(\"%s:%d\"%(\"ab\",3))"
   ]
  },
  {
   "cell_type": "code",
   "execution_count": null,
   "metadata": {},
   "outputs": [],
   "source": []
  }
 ],
 "metadata": {
  "kernelspec": {
   "display_name": "Python 3",
   "language": "python",
   "name": "python3"
  },
  "language_info": {
   "codemirror_mode": {
    "name": "ipython",
    "version": 3
   },
   "file_extension": ".py",
   "mimetype": "text/x-python",
   "name": "python",
   "nbconvert_exporter": "python",
   "pygments_lexer": "ipython3",
   "version": "3.7.5"
  }
 },
 "nbformat": 4,
 "nbformat_minor": 2
}
