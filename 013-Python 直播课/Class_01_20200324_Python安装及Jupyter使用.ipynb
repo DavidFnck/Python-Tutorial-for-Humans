{
 "cells": [
  {
   "cell_type": "markdown",
   "metadata": {},
   "source": [
    "![](https://pptwinpics.oss-cn-beijing.aliyuncs.com/CDA%E8%AE%B2%E5%B8%88%E6%B0%B4%E5%8D%B0_20200314161940.png)\n",
    "\n",
    "# CDA 免费直播课-Python 基础\n",
    "\n",
    "## 自我介绍\n",
    "\n",
    "大家好，我是 CDA 曹鑫。\n",
    "\n",
    "代码和学习资料：https://github.com/imcda\n",
    "\n",
    "学习小组：http://edu.cda.cn/group/19\n",
    "\n",
    "\n",
    "## 课程前瞻\n",
    "\n",
    "### 主课程：（1h）\n",
    "- 为什么要学 Python？\n",
    "    - 最好的编程语言\n",
    "- Python 安装\n",
    "    - Anaconda 的安装\n",
    "- Python 环境和包的管理\n",
    "    - Conda 的使用\n",
    "- Python 编程工具\n",
    "    - Jupyter Notebook 的使用\n",
    "    \n",
    "### 附加课：\n",
    "- Sublime Text 的安装：https://www.sublimetext.com/\n",
    "- Pycharm 的安装：https://www.jetbrains.com/pycharm/download/#section=mac"
   ]
  },
  {
   "cell_type": "markdown",
   "metadata": {},
   "source": [
    "# 为什么学 Python？\n",
    "\n",
    "**小组话题:** http://edu.cda.cn/group/19/thread/93\n",
    "\n",
    "## Python 评分最高\n",
    "\n",
    "http://pypl.github.io/PYPL.html\n",
    "\n",
    "## Python 能做的事情很多\n",
    "\n",
    "### 数据抓取\n",
    "\n",
    "你可以利用 Python 爬虫。\n",
    "\n",
    "### 数据清洗\n",
    "\n",
    "你可以利用 Python 处理数据，尤其是海量数据，Excel 打开都困难的。\n",
    "\n",
    "### 数据可视化\n",
    "\n",
    "你可以利用 Python 将数据转化成图，更加形象生动。\n",
    "\n",
    "### 数据挖掘\n",
    "\n",
    "你可以利用 Python 从数据中找到更深层次的信息。\n"
   ]
  },
  {
   "cell_type": "markdown",
   "metadata": {},
   "source": [
    "# 自动化办公：一样的工作，你要花1小时，我只要 10 秒钟"
   ]
  },
  {
   "cell_type": "code",
   "execution_count": 1,
   "metadata": {},
   "outputs": [],
   "source": [
    "# 创建 12 个 Excel 表\n",
    "\n",
    "\n",
    "# 每个表 100 个 Sheet 表"
   ]
  },
  {
   "cell_type": "markdown",
   "metadata": {},
   "source": [
    "# Python 安装\n",
    "\n",
    "https://www.anaconda.com/\n",
    "\n",
    "[文字版教程](https://github.com/imcda/Python-Tutorial-for-Humans/blob/master/002-%E5%AE%89%E8%A3%85%20Python/001-Anaconda%20%E5%AE%89%E8%A3%85%E5%8F%8A%E6%93%8D%E4%BD%9C.md)"
   ]
  },
  {
   "cell_type": "markdown",
   "metadata": {},
   "source": [
    "# Python 环境和包的管理\n",
    "\n",
    "[文字版教程](https://github.com/imcda/Python-Tutorial-for-Humans/blob/master/002-%E5%AE%89%E8%A3%85%20Python/001-Anaconda%20%E5%AE%89%E8%A3%85%E5%8F%8A%E6%93%8D%E4%BD%9C.md)"
   ]
  },
  {
   "cell_type": "markdown",
   "metadata": {},
   "source": [
    "# Python 编程工具\n",
    "\n",
    "[文字版教程](https://github.com/imcda/Python-Tutorial-for-Humans/blob/master/002-%E5%AE%89%E8%A3%85%20Python/002-Jupyter%20Notebook%20%E6%95%99%E7%A8%8B.ipynb)"
   ]
  },
  {
   "cell_type": "code",
   "execution_count": null,
   "metadata": {},
   "outputs": [],
   "source": []
  }
 ],
 "metadata": {
  "kernelspec": {
   "display_name": "Python [conda env:root] *",
   "language": "python",
   "name": "conda-root-py"
  },
  "language_info": {
   "codemirror_mode": {
    "name": "ipython",
    "version": 3
   },
   "file_extension": ".py",
   "mimetype": "text/x-python",
   "name": "python",
   "nbconvert_exporter": "python",
   "pygments_lexer": "ipython3",
   "version": "3.7.6"
  },
  "toc": {
   "base_numbering": 1,
   "nav_menu": {},
   "number_sections": true,
   "sideBar": true,
   "skip_h1_title": false,
   "title_cell": "Table of Contents",
   "title_sidebar": "Contents",
   "toc_cell": false,
   "toc_position": {},
   "toc_section_display": true,
   "toc_window_display": false
  }
 },
 "nbformat": 4,
 "nbformat_minor": 4
}
