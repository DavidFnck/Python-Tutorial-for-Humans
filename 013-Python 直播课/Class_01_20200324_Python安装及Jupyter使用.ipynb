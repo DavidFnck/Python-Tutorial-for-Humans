{
 "cells": [
  {
   "cell_type": "markdown",
   "metadata": {},
   "source": [
    "![](https://pptwinpics.oss-cn-beijing.aliyuncs.com/CDA%E8%AE%B2%E5%B8%88%E6%B0%B4%E5%8D%B0_20200314161940.png)\n",
    "\n",
    "# CDA 免费直播课-Python 基础\n",
    "\n",
    "## 自我介绍\n",
    "\n",
    "大家好，我是 CDA 曹鑫。\n",
    "\n",
    "代码和学习资料：https://github.com/imcda\n",
    "\n",
    "学习小组：http://edu.cda.cn/group/19\n",
    "\n",
    "\n",
    "## 课程前瞻\n",
    "\n",
    "### 主课程：\n",
    "- 为什么要学 Python？\n",
    "    - 为什么要学编程？\n",
    "    - 为什么选择 Python？\n",
    "- Python 安装\n",
    "    - Anaconda 的安装\n",
    "- Python 环境和包的管理\n",
    "    - Conda 的使用\n",
    "- Python 编程工具\n",
    "    - Jupyter Notebook 的使用\n",
    "    \n",
    "### 附加课：\n",
    "- Sublime Text 的安装\n",
    "- Pycharm 的安装"
   ]
  },
  {
   "cell_type": "markdown",
   "metadata": {},
   "source": [
    "# 为什么学 Python？\n",
    "\n",
    "**小组话题:** http://edu.cda.cn/group/19/thread/93\n",
    "\n",
    "## Python 评分最高\n",
    "\n",
    "## Python 能做的事情很多\n",
    "\n",
    "### \n",
    "\n",
    "\n"
   ]
  },
  {
   "cell_type": "markdown",
   "metadata": {},
   "source": [
    "## 为什么选择 Python？\n",
    "\n",
    "编程世界有句玩笑话就是：PHP 是最好的语言。\n",
    "\n",
    "### 行业评分\n",
    "\n",
    "http://pypl.github.io/PYPL.html\n",
    "\n",
    "### 企业应用\n",
    "\n",
    "1. 开发类：\n",
    "\n",
    "2. 数据分析类：\n",
    "\n",
    "### 普通人的应用\n",
    "\n"
   ]
  },
  {
   "cell_type": "code",
   "execution_count": null,
   "metadata": {},
   "outputs": [],
   "source": []
  }
 ],
 "metadata": {
  "kernelspec": {
   "display_name": "Python [conda env:root] *",
   "language": "python",
   "name": "conda-root-py"
  },
  "language_info": {
   "codemirror_mode": {
    "name": "ipython",
    "version": 3
   },
   "file_extension": ".py",
   "mimetype": "text/x-python",
   "name": "python",
   "nbconvert_exporter": "python",
   "pygments_lexer": "ipython3",
   "version": "3.7.6"
  },
  "toc": {
   "base_numbering": 1,
   "nav_menu": {},
   "number_sections": true,
   "sideBar": true,
   "skip_h1_title": false,
   "title_cell": "Table of Contents",
   "title_sidebar": "Contents",
   "toc_cell": false,
   "toc_position": {},
   "toc_section_display": true,
   "toc_window_display": false
  }
 },
 "nbformat": 4,
 "nbformat_minor": 4
}
