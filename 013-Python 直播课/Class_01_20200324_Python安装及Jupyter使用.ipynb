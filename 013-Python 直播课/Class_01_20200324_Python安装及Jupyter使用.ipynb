{
 "cells": [
  {
   "cell_type": "markdown",
   "metadata": {},
   "source": [
    "![](https://pptwinpics.oss-cn-beijing.aliyuncs.com/CDA%E8%AE%B2%E5%B8%88%E6%B0%B4%E5%8D%B0_20200314161940.png)\n",
    "\n",
    "# CDA 免费直播课-Python 基础\n",
    "\n",
    "## 自我介绍\n",
    "\n",
    "大家好，我是 CDA 曹鑫。\n",
    "\n",
    "代码和学习资料：https://github.com/imcda\n",
    "\n",
    "学习小组：http://edu.cda.cn/group/19\n",
    "\n",
    "\n",
    "## 课程前瞻\n",
    "\n",
    "### 主课程：（1h）\n",
    "- 为什么要学 Python？\n",
    "    - 最好的编程语言\n",
    "- Python 安装\n",
    "    - Anaconda 的安装\n",
    "- Python 环境和包的管理\n",
    "    - Conda 的使用\n",
    "- Python 编程工具\n",
    "    - Jupyter Notebook 的使用\n",
    "    \n",
    "### 附加课：\n",
    "- Sublime Text 的安装：https://www.sublimetext.com/\n",
    "- Pycharm 的安装：https://www.jetbrains.com/pycharm/download/#section=mac"
   ]
  },
  {
   "cell_type": "markdown",
   "metadata": {},
   "source": [
    "# 为什么学 Python？\n",
    "\n",
    "**小组话题:** http://edu.cda.cn/group/19/thread/93\n",
    "\n",
    "## Python 评分最高\n",
    "\n",
    "http://pypl.github.io/PYPL.html\n",
    "\n",
    "## Python 能做的事情很多\n",
    "\n",
    "### 数据抓取\n",
    "\n",
    "你可以利用 Python 爬虫。\n",
    "\n"
   ]
  },
  {
   "cell_type": "code",
   "execution_count": null,
   "metadata": {},
   "outputs": [],
   "source": []
  },
  {
   "cell_type": "markdown",
   "metadata": {},
   "source": [
    "### 数据清洗\n",
    "\n",
    "你可以利用 Python 处理数据，尤其是海量数据，Excel 打开都困难的。\n",
    "\n"
   ]
  },
  {
   "cell_type": "code",
   "execution_count": null,
   "metadata": {},
   "outputs": [],
   "source": []
  },
  {
   "cell_type": "markdown",
   "metadata": {},
   "source": [
    "### 数据可视化\n",
    "\n",
    "你可以利用 Python 将数据转化成图，更加形象生动。\n",
    "\n"
   ]
  },
  {
   "cell_type": "code",
   "execution_count": null,
   "metadata": {},
   "outputs": [],
   "source": []
  },
  {
   "cell_type": "markdown",
   "metadata": {},
   "source": [
    "### 数据挖掘\n",
    "\n",
    "你可以利用 Python 从数据中找到更深层次的信息。\n"
   ]
  },
  {
   "cell_type": "code",
   "execution_count": null,
   "metadata": {},
   "outputs": [],
   "source": []
  },
  {
   "cell_type": "markdown",
   "metadata": {},
   "source": [
    "# 自动化办公：一样的工作，你要花1小时，我只要 10 秒钟"
   ]
  },
  {
   "cell_type": "code",
   "execution_count": 9,
   "metadata": {},
   "outputs": [
    {
     "name": "stdout",
     "output_type": "stream",
     "text": [
      "A公司合同完成\n",
      "B公司合同完成\n",
      "C公司合同完成\n",
      "D公司合同完成\n",
      "E公司合同完成\n",
      "F公司合同完成\n",
      "G公司合同完成\n",
      "H公司合同完成\n",
      "I公司合同完成\n",
      "J公司合同完成\n",
      "K公司合同完成\n",
      "L公司合同完成\n",
      "M公司合同完成\n",
      "N公司合同完成\n",
      "O公司合同完成\n",
      "P公司合同完成\n",
      "Q公司合同完成\n",
      "R公司合同完成\n"
     ]
    }
   ],
   "source": [
    "from docx import Document\n",
    "import xlrd\n",
    "\n",
    "\n",
    "def change_text(old_text, new_text):\n",
    "    all_paragraphs = document.paragraphs\n",
    "    for paragraph in all_paragraphs:\n",
    "        for run in paragraph.runs:\n",
    "            run_text = run.text.replace(old_text, new_text)\n",
    "            run.text = run_text\n",
    "\n",
    "    all_tables = document.tables\n",
    "    for table in all_tables:\n",
    "        for row in table.rows:\n",
    "            for cell in row.cells:\n",
    "                cell_text = cell.text.replace(old_text, new_text)\n",
    "                cell.text = cell_text\n",
    "\n",
    "\n",
    "xlsx = xlrd.open_workbook('Excel_Files/合同信息表.xlsx')\n",
    "sheet = xlsx.sheet_by_index(0)\n",
    "\n",
    "for table_row in range(1, sheet.nrows):\n",
    "    document = Document(\"Word_Files/修改模板.docx\")\n",
    "    for table_col in range(0, sheet.ncols):\n",
    "        change_text(str(sheet.cell_value(0, table_col)), str(sheet.cell_value(table_row, table_col)))\n",
    "\n",
    "    document.save(\"Word_Files/%s合同.docx\" % str(sheet.cell_value(table_row, 2)))\n",
    "    print(\"%s合同完成\" % str(sheet.cell_value(table_row, 2)))"
   ]
  },
  {
   "cell_type": "code",
   "execution_count": 10,
   "metadata": {},
   "outputs": [
    {
     "name": "stdout",
     "output_type": "stream",
     "text": [
      "Collecting fuzzywuzzy\n",
      "  Downloading fuzzywuzzy-0.18.0-py2.py3-none-any.whl (18 kB)\n",
      "Installing collected packages: fuzzywuzzy\n",
      "Successfully installed fuzzywuzzy-0.18.0\n"
     ]
    }
   ],
   "source": [
    "!pip install fuzzywuzzy"
   ]
  },
  {
   "cell_type": "markdown",
   "metadata": {},
   "source": [
    "# Python 安装\n",
    "\n",
    "https://www.anaconda.com/\n",
    "\n",
    "[文字版教程](https://github.com/imcda/Python-Tutorial-for-Humans/blob/master/002-%E5%AE%89%E8%A3%85%20Python/001-Anaconda%20%E5%AE%89%E8%A3%85%E5%8F%8A%E6%93%8D%E4%BD%9C.md)"
   ]
  },
  {
   "cell_type": "markdown",
   "metadata": {},
   "source": [
    "# Python 环境和包的管理\n",
    "\n",
    "[文字版教程](https://github.com/imcda/Python-Tutorial-for-Humans/blob/master/002-%E5%AE%89%E8%A3%85%20Python/001-Anaconda%20%E5%AE%89%E8%A3%85%E5%8F%8A%E6%93%8D%E4%BD%9C.md)"
   ]
  },
  {
   "cell_type": "markdown",
   "metadata": {},
   "source": [
    "# Python 编程工具\n",
    "\n",
    "[文字版教程](https://github.com/imcda/Python-Tutorial-for-Humans/blob/master/002-%E5%AE%89%E8%A3%85%20Python/002-Jupyter%20Notebook%20%E6%95%99%E7%A8%8B.ipynb)"
   ]
  },
  {
   "cell_type": "code",
   "execution_count": null,
   "metadata": {},
   "outputs": [],
   "source": []
  }
 ],
 "metadata": {
  "kernelspec": {
   "display_name": "Python [conda env:root] *",
   "language": "python",
   "name": "conda-root-py"
  },
  "language_info": {
   "codemirror_mode": {
    "name": "ipython",
    "version": 3
   },
   "file_extension": ".py",
   "mimetype": "text/x-python",
   "name": "python",
   "nbconvert_exporter": "python",
   "pygments_lexer": "ipython3",
   "version": "3.7.6"
  },
  "toc": {
   "base_numbering": 1,
   "nav_menu": {},
   "number_sections": true,
   "sideBar": true,
   "skip_h1_title": false,
   "title_cell": "Table of Contents",
   "title_sidebar": "Contents",
   "toc_cell": false,
   "toc_position": {},
   "toc_section_display": true,
   "toc_window_display": false
  }
 },
 "nbformat": 4,
 "nbformat_minor": 4
}
