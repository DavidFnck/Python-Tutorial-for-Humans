{
 "cells": [
  {
   "cell_type": "markdown",
   "metadata": {},
   "source": [
    "# 前言\n",
    "\n",
    "用 Jupyter Notebook 来教 Jupyter Notebook 的用法，才是正确的打开方式吧？\n",
    "\n",
    "在 Jupyter Notebook 里面，你可以这样一块一块的插入编辑区域，这样的编辑区域可以变成`代码`、`标记`，你可以在工具栏的下拉框里面进行选择，这里两个是最常用的，秉持着我们「不求甚解」的原则，记住这些你就可以继续往下学习了。\n",
    "\n",
    "这段叫做`标记`，支持 Markdown 编辑，这里你可能有问题了，Markdown 是什么？\n",
    "\n",
    "比如我用井号 `#` 加空格，输入的文字变成了一级标题，聪明的你一定联想到了两个井号 `##` 就是二级标题，以此类推。又比如**加粗**，就是在文字两遍更加两个星号 `*`.\n",
    "\n",
    "更多 Markdown 的内容，请移步 [《「不求甚解」的Markdown 手册》]()\n",
    "\n",
    "我们继续说 Jupyter Notebook 。\n",
    "\n",
    "除了可以写这样的描述，Jupyter Notebook 还能添加叫`代码`的区块，那就来试试吧！点击工具栏的 `+` 号，就可以在当前选中的区块下面增加一个区块，就像下面这样。\n",
    "\n",
    "👇👇👇👇👇👇"
   ]
  },
  {
   "cell_type": "code",
   "execution_count": 1,
   "metadata": {},
   "outputs": [
    {
     "name": "stdout",
     "output_type": "stream",
     "text": [
      "hello world\n"
     ]
    }
   ],
   "source": [
    "print('hello world')"
   ]
  },
  {
   "cell_type": "markdown",
   "metadata": {},
   "source": [
    "👆👆👆👆👆\n",
    "\n",
    "##  Jupyter Notebook 的操作\n",
    "\n",
    "上面这句代码就是经典的`hello world`代码，你看经典的永远是最简单的。那让我们来先来分析一下上面的 Jupyter Notebook 的操作。\n",
    "\n",
    "1. 在代码输入的区域输入代码，就是所谓的`In`\n",
    "2. 同时按 `shift + 回车(enter)` 就会运行代码\n",
    "3. 下面白色间隔区域就是输出的结果，所谓的`Out`\n",
    "\n",
    "是不是很简单？你打开 Jupyter Notebook 跟着我一起操作了吗？\n",
    "\n",
    "## print 函数\n",
    "\n",
    "简单说，`print()` 方法用于打印输出，最常见的一个函数。你想机器回答你什么，就让它`print()`出来，很形象生动，机器人最方便的输出不就是打印吗？\n",
    "\n",
    "复杂点的话，之后你可以查看 [《print 函数》](https://github.com/DavidFnck/Python-Tutorial-for-Humans/tree/master/004-Python%20基础/088-print%20函数.ipynb)"
   ]
  },
  {
   "cell_type": "code",
   "execution_count": null,
   "metadata": {},
   "outputs": [],
   "source": []
  }
 ],
 "metadata": {
  "kernelspec": {
   "display_name": "Python 3",
   "language": "python",
   "name": "python3"
  },
  "language_info": {
   "codemirror_mode": {
    "name": "ipython",
    "version": 3
   },
   "file_extension": ".py",
   "mimetype": "text/x-python",
   "name": "python",
   "nbconvert_exporter": "python",
   "pygments_lexer": "ipython3",
   "version": "3.7.5"
  }
 },
 "nbformat": 4,
 "nbformat_minor": 2
}
