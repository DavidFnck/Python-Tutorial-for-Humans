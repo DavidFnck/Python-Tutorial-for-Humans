{
 "cells": [
  {
   "cell_type": "markdown",
   "metadata": {},
   "source": [
    "# 描述\n",
    "print() 方法用于打印输出，最常见的一个函数。\n",
    "\n",
    "在 Python3.3 版增加了 flush 关键字参数。\n",
    "\n",
    "> print 在 Python3.x 是一个函数，但在 Python2.x 版本不是一个函数，只是一个关键字。\n",
    "\n",
    "\n",
    "# 语法\n",
    "以下是 print() 方法的语法:\n",
    "```python\n",
    "print(*objects, sep=' ', end='\\n', file=sys.stdout, flush=False)\n",
    "```\n",
    "\n",
    "# 参数\n",
    "`objects` -- 复数，表示可以一次输出多个对象。输出多个对象时，需要用 , 分隔。\n",
    "\n",
    "`sep` -- 用来间隔多个对象，默认值是一个空格。\n",
    "\n",
    "`nend` -- 用来设定以什么结尾。默认值是换行符 \\n，我们可以换成其他字符串。\n",
    "\n",
    "`file` -- 要写入的文件对象。\n",
    "\n",
    "`flush` -- 输出是否被缓存通常决定于 file，但如果 flush 关键字参数为 True，流会被强制刷新。\n",
    "\n",
    "# 返回值\n",
    "无。\n"
   ]
  },
  {
   "cell_type": "markdown",
   "metadata": {},
   "source": [
    "# 实例\n",
    "以下展示了使用 print 函数的实例：\n",
    "\n",
    "**Python3 下测试**"
   ]
  },
  {
   "cell_type": "code",
   "execution_count": 1,
   "metadata": {},
   "outputs": [
    {
     "name": "stdout",
     "output_type": "stream",
     "text": [
      "1\n"
     ]
    }
   ],
   "source": [
    "print(1)"
   ]
  },
  {
   "cell_type": "code",
   "execution_count": 2,
   "metadata": {},
   "outputs": [
    {
     "name": "stdout",
     "output_type": "stream",
     "text": [
      "Hello World\n"
     ]
    }
   ],
   "source": [
    "print(\"Hello World\") "
   ]
  },
  {
   "cell_type": "code",
   "execution_count": null,
   "metadata": {},
   "outputs": [],
   "source": []
  }
 ],
 "metadata": {
  "kernelspec": {
   "display_name": "Python 3",
   "language": "python",
   "name": "python3"
  },
  "language_info": {
   "codemirror_mode": {
    "name": "ipython",
    "version": 3
   },
   "file_extension": ".py",
   "mimetype": "text/x-python",
   "name": "python",
   "nbconvert_exporter": "python",
   "pygments_lexer": "ipython3",
   "version": "3.7.5"
  }
 },
 "nbformat": 4,
 "nbformat_minor": 2
}
