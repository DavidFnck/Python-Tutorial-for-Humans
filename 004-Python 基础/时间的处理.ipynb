{
 "cells": [
  {
   "cell_type": "markdown",
   "metadata": {},
   "source": [
    "# 前言\n",
    "\n",
    "## dateparser – python parser for human readable dates\n",
    "链接：https://dateparser.readthedocs.io/en/latest/\n",
    "\n",
    "## Python中时间的处理之——tzinfo篇\n",
    "链接：https://www.cnblogs.com/goodspeed/archive/2011/11/07/python_tzinfo.html\n",
    "\n",
    "## python时区设置——pytz模块\n",
    "链接：https://blog.csdn.net/shanliangliuxing/article/details/8557865\n",
    "\n",
    "## Linux时间 新纪元 epoch time\n",
    "链接：https://blog.csdn.net/lanmolei814/article/details/34115781"
   ]
  }
 ],
 "metadata": {
  "kernelspec": {
   "display_name": "Python 3",
   "language": "python",
   "name": "python3"
  },
  "language_info": {
   "codemirror_mode": {
    "name": "ipython",
    "version": 3
   },
   "file_extension": ".py",
   "mimetype": "text/x-python",
   "name": "python",
   "nbconvert_exporter": "python",
   "pygments_lexer": "ipython3",
   "version": "3.7.5"
  },
  "toc": {
   "base_numbering": 1,
   "nav_menu": {},
   "number_sections": true,
   "sideBar": true,
   "skip_h1_title": false,
   "title_cell": "Table of Contents",
   "title_sidebar": "Contents",
   "toc_cell": false,
   "toc_position": {},
   "toc_section_display": true,
   "toc_window_display": false
  }
 },
 "nbformat": 4,
 "nbformat_minor": 2
}
