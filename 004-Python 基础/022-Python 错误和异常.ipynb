{
 "cells": [
  {
   "cell_type": "markdown",
   "metadata": {},
   "source": [
    "# 前言\n",
    "\n",
    "我们在学习过程中经常会看到这样或者那样的错误，学会读懂错误，也是很重要的。\n",
    "\n",
    "最常见的几种错误：\n",
    "\n",
    "- 语法错误\n",
    "- 名字错误\n",
    "- 类型错误\n",
    "- 文件不存在错误\n",
    "\n",
    "在编程过程中，出现错误是难免的，尤其是你在运行一些别人的代码的时候。这节课，我们就来讲讲 Python 的错误和异常该如何处理。\n",
    "\n",
    "本节课程你将学到：\n",
    "\n"
   ]
  },
  {
   "cell_type": "code",
   "execution_count": 4,
   "metadata": {},
   "outputs": [
    {
     "ename": "SyntaxError",
     "evalue": "EOL while scanning string literal (<ipython-input-4-cc6d3073532a>, line 1)",
     "output_type": "error",
     "traceback": [
      "\u001b[0;36m  File \u001b[0;32m\"<ipython-input-4-cc6d3073532a>\"\u001b[0;36m, line \u001b[0;32m1\u001b[0m\n\u001b[0;31m    print(\"hello world\u001b[0m\n\u001b[0m                      ^\u001b[0m\n\u001b[0;31mSyntaxError\u001b[0m\u001b[0;31m:\u001b[0m EOL while scanning string literal\n"
     ]
    }
   ],
   "source": [
    "print(\"hello world"
   ]
  },
  {
   "cell_type": "markdown",
   "metadata": {},
   "source": [
    "# 解读\n",
    "\n",
    "观察上面的代码和输出，最后一行最明显，Python 程序提示出现了一个 SyntaxError，也就是「语法错误」。\n",
    "\n",
    "同时你看倒数第二行，可以看到有个小箭头，指向我们错误发生的位置，在world后面。\n",
    "\n",
    "我们继续看最后一行关于错误的具体描述，「在扫描字符串的时候遇到了 EOL」。这里的 EOL 是 end of line（行尾）的缩写。\n",
    "\n",
    "而第一行，是说明文件名和行号，错误发生在哪个文件的哪行代码。\n",
    "\n",
    "## 语法错误（SyntaxError）\n",
    "\n",
    "语法错误一般比较容易发现。\n",
    "\n",
    "## 代码异常（Exception）\n",
    "\n",
    "而更多的时候，是语法没有问题，但是运行起来出现错误。\n",
    "\n",
    "我们来看几个异常的错误，这些都是来自官方的文档。"
   ]
  },
  {
   "cell_type": "code",
   "execution_count": 6,
   "metadata": {},
   "outputs": [
    {
     "ename": "ZeroDivisionError",
     "evalue": "division by zero",
     "output_type": "error",
     "traceback": [
      "\u001b[0;31m---------------------------------------------------------------------------\u001b[0m",
      "\u001b[0;31mZeroDivisionError\u001b[0m                         Traceback (most recent call last)",
      "\u001b[0;32m<ipython-input-6-6de6d1297d43>\u001b[0m in \u001b[0;36m<module>\u001b[0;34m\u001b[0m\n\u001b[1;32m      1\u001b[0m \u001b[0;31m# 案例1\u001b[0m\u001b[0;34m\u001b[0m\u001b[0;34m\u001b[0m\u001b[0;34m\u001b[0m\u001b[0m\n\u001b[0;32m----> 2\u001b[0;31m \u001b[0;36m10\u001b[0m\u001b[0;34m*\u001b[0m\u001b[0;34m(\u001b[0m\u001b[0;36m1\u001b[0m\u001b[0;34m/\u001b[0m\u001b[0;36m0\u001b[0m\u001b[0;34m)\u001b[0m\u001b[0;34m\u001b[0m\u001b[0;34m\u001b[0m\u001b[0m\n\u001b[0m",
      "\u001b[0;31mZeroDivisionError\u001b[0m: division by zero"
     ]
    }
   ],
   "source": [
    "# 案例1：把 0 当作除数\n",
    "10*(1/0)"
   ]
  },
  {
   "cell_type": "code",
   "execution_count": 7,
   "metadata": {},
   "outputs": [
    {
     "ename": "NameError",
     "evalue": "name 'spam' is not defined",
     "output_type": "error",
     "traceback": [
      "\u001b[0;31m---------------------------------------------------------------------------\u001b[0m",
      "\u001b[0;31mNameError\u001b[0m                                 Traceback (most recent call last)",
      "\u001b[0;32m<ipython-input-7-75d5320ce639>\u001b[0m in \u001b[0;36m<module>\u001b[0;34m\u001b[0m\n\u001b[1;32m      1\u001b[0m \u001b[0;31m# 案例2\u001b[0m\u001b[0;34m\u001b[0m\u001b[0;34m\u001b[0m\u001b[0;34m\u001b[0m\u001b[0m\n\u001b[0;32m----> 2\u001b[0;31m \u001b[0;36m4\u001b[0m\u001b[0;34m+\u001b[0m\u001b[0mspam\u001b[0m\u001b[0;34m+\u001b[0m\u001b[0;36m3\u001b[0m\u001b[0;34m\u001b[0m\u001b[0;34m\u001b[0m\u001b[0m\n\u001b[0m",
      "\u001b[0;31mNameError\u001b[0m: name 'spam' is not defined"
     ]
    }
   ],
   "source": [
    "# 案例2：spam 名字尚未定义\n",
    "4+spam+3"
   ]
  },
  {
   "cell_type": "code",
   "execution_count": 10,
   "metadata": {},
   "outputs": [
    {
     "ename": "TypeError",
     "evalue": "can only concatenate str (not \"int\") to str",
     "output_type": "error",
     "traceback": [
      "\u001b[0;31m---------------------------------------------------------------------------\u001b[0m",
      "\u001b[0;31mTypeError\u001b[0m                                 Traceback (most recent call last)",
      "\u001b[0;32m<ipython-input-10-816dd142d35d>\u001b[0m in \u001b[0;36m<module>\u001b[0;34m\u001b[0m\n\u001b[1;32m      1\u001b[0m \u001b[0;31m# 案例3：类型不同\u001b[0m\u001b[0;34m\u001b[0m\u001b[0;34m\u001b[0m\u001b[0;34m\u001b[0m\u001b[0m\n\u001b[0;32m----> 2\u001b[0;31m \u001b[0;34m'2'\u001b[0m\u001b[0;34m+\u001b[0m\u001b[0;36m2\u001b[0m\u001b[0;34m\u001b[0m\u001b[0;34m\u001b[0m\u001b[0m\n\u001b[0m",
      "\u001b[0;31mTypeError\u001b[0m: can only concatenate str (not \"int\") to str"
     ]
    }
   ],
   "source": [
    "# 案例3：类型不同\n",
    "'2'+2"
   ]
  },
  {
   "cell_type": "markdown",
   "metadata": {},
   "source": [
    "# 解读\n",
    "\n",
    "以上三段代码一共出现三种异常，分别是：\n",
    "\n",
    "1. ZeroDivisionError（除零异常）\n",
    "2. NameError（名字异常）\n",
    "3. TypeError（类型异常）\n",
    "\n",
    "以上都是异常的类型，其实这里涉及到了面向对象编程里面的类，这个在 Python 进阶里面的[类]()会讲到。\n",
    "\n",
    "我们还是回过来看看上面每个异常的具体描述，三个分别是什么。\n",
    "\n",
    "同样的，我们也看到除了出错的位置，还有一个叫「Traaceback」的提示，它的意思就是追溯（最近一次的执行），而且阅读的方式应该是自上而下，我们这里写的比较简单所以看不出来，我们来稍微复杂一点。"
   ]
  },
  {
   "cell_type": "code",
   "execution_count": 13,
   "metadata": {},
   "outputs": [
    {
     "ename": "ZeroDivisionError",
     "evalue": "division by zero",
     "output_type": "error",
     "traceback": [
      "\u001b[0;31m---------------------------------------------------------------------------\u001b[0m",
      "\u001b[0;31mZeroDivisionError\u001b[0m                         Traceback (most recent call last)",
      "\u001b[0;32m<ipython-input-13-d570115b74ec>\u001b[0m in \u001b[0;36m<module>\u001b[0;34m\u001b[0m\n\u001b[1;32m      3\u001b[0m     \u001b[0;32mreturn\u001b[0m \u001b[0ma\u001b[0m \u001b[0;34m/\u001b[0m \u001b[0mb\u001b[0m\u001b[0;34m\u001b[0m\u001b[0;34m\u001b[0m\u001b[0m\n\u001b[1;32m      4\u001b[0m \u001b[0;34m\u001b[0m\u001b[0m\n\u001b[0;32m----> 5\u001b[0;31m \u001b[0mprint\u001b[0m\u001b[0;34m(\u001b[0m\u001b[0mdevide\u001b[0m\u001b[0;34m(\u001b[0m\u001b[0;36m1\u001b[0m\u001b[0;34m,\u001b[0m\u001b[0;36m0\u001b[0m\u001b[0;34m)\u001b[0m\u001b[0;34m)\u001b[0m\u001b[0;34m\u001b[0m\u001b[0;34m\u001b[0m\u001b[0m\n\u001b[0m",
      "\u001b[0;32m<ipython-input-13-d570115b74ec>\u001b[0m in \u001b[0;36mdevide\u001b[0;34m(a, b)\u001b[0m\n\u001b[1;32m      1\u001b[0m \u001b[0;31m# 定义函数\u001b[0m\u001b[0;34m\u001b[0m\u001b[0;34m\u001b[0m\u001b[0;34m\u001b[0m\u001b[0m\n\u001b[1;32m      2\u001b[0m \u001b[0;32mdef\u001b[0m \u001b[0mdevide\u001b[0m\u001b[0;34m(\u001b[0m\u001b[0ma\u001b[0m\u001b[0;34m,\u001b[0m\u001b[0mb\u001b[0m\u001b[0;34m)\u001b[0m\u001b[0;34m:\u001b[0m\u001b[0;34m\u001b[0m\u001b[0;34m\u001b[0m\u001b[0m\n\u001b[0;32m----> 3\u001b[0;31m     \u001b[0;32mreturn\u001b[0m \u001b[0ma\u001b[0m \u001b[0;34m/\u001b[0m \u001b[0mb\u001b[0m\u001b[0;34m\u001b[0m\u001b[0;34m\u001b[0m\u001b[0m\n\u001b[0m\u001b[1;32m      4\u001b[0m \u001b[0;34m\u001b[0m\u001b[0m\n\u001b[1;32m      5\u001b[0m \u001b[0mprint\u001b[0m\u001b[0;34m(\u001b[0m\u001b[0mdevide\u001b[0m\u001b[0;34m(\u001b[0m\u001b[0;36m1\u001b[0m\u001b[0;34m,\u001b[0m\u001b[0;36m0\u001b[0m\u001b[0;34m)\u001b[0m\u001b[0;34m)\u001b[0m\u001b[0;34m\u001b[0m\u001b[0;34m\u001b[0m\u001b[0m\n",
      "\u001b[0;31mZeroDivisionError\u001b[0m: division by zero"
     ]
    }
   ],
   "source": [
    "# 定义函数\n",
    "def devide(a,b):\n",
    "    return a / b\n",
    "\n",
    "print(devide(1,0))"
   ]
  },
  {
   "cell_type": "markdown",
   "metadata": {},
   "source": [
    "# 解读\n",
    "\n",
    "这样我们是不是可以清晰的看到先是第5行`print()`里面出错了，再深究下去，就是定义的`devide`函数出错了，什么错误？是「除零错误」。同时你也可以看到`in <module>`和`in devide(a,b)`都是明确表明错误发生的位置的。\n",
    "\n",
    "module 翻译为模组，跟它的发音很像，表示错误发生在代码的最外层。\n",
    "\n",
    "当然我们这里的问题比较简单，比较复杂的时候就需要我们根据这些提示来好好分析了。\n",
    "\n",
    "关于函数定义 def，我们在 Python 进阶里面的[定义函数]()会讲到。"
   ]
  },
  {
   "cell_type": "markdown",
   "metadata": {},
   "source": [
    "# 其他异常\n",
    "\n",
    "除了常见的，还有很多异常类型，\n",
    "\n",
    "未来在你自己编写的过程中也会遇到各种各样的异常。\n",
    "\n",
    "但是通常这些异常都可以通过以上方式来解决。\n",
    "\n",
    "# 异常解决的好方法\n",
    "\n",
    "遇到异常，最简单直接的方式就是把异常拿到搜索引擎，找到最佳的解决方案，通常最好的答案会在这里：\n",
    "[stackoverflow](https://stackoverflow.com/)\n",
    "\n",
    "当然你也可以研究：\n",
    "[python 官方文档](https://docs.python.org/3/)"
   ]
  },
  {
   "cell_type": "markdown",
   "metadata": {},
   "source": [
    "# 异常的预判和防护\n",
    "\n",
    "让我来回到我们之前提到的一个小游戏，就是下面这段代码："
   ]
  },
  {
   "cell_type": "code",
   "execution_count": 17,
   "metadata": {},
   "outputs": [
    {
     "name": "stdout",
     "output_type": "stream",
     "text": [
      "请输入一个[1,100]的整数：10000\n",
      "大了，再猜猜\n",
      "请输入一个[1,100]的整数：1.23\n"
     ]
    },
    {
     "ename": "ValueError",
     "evalue": "invalid literal for int() with base 10: '1.23'",
     "output_type": "error",
     "traceback": [
      "\u001b[0;31m---------------------------------------------------------------------------\u001b[0m",
      "\u001b[0;31mValueError\u001b[0m                                Traceback (most recent call last)",
      "\u001b[0;32m<ipython-input-17-4feaf0bf5dce>\u001b[0m in \u001b[0;36m<module>\u001b[0;34m\u001b[0m\n\u001b[1;32m      6\u001b[0m \u001b[0;34m\u001b[0m\u001b[0m\n\u001b[1;32m      7\u001b[0m \u001b[0;32mwhile\u001b[0m \u001b[0;32mnot\u001b[0m \u001b[0mis_done\u001b[0m\u001b[0;34m:\u001b[0m\u001b[0;34m\u001b[0m\u001b[0;34m\u001b[0m\u001b[0m\n\u001b[0;32m----> 8\u001b[0;31m     \u001b[0mguess\u001b[0m \u001b[0;34m=\u001b[0m \u001b[0mint\u001b[0m\u001b[0;34m(\u001b[0m\u001b[0minput\u001b[0m\u001b[0;34m(\u001b[0m\u001b[0;34m'请输入一个[1,100]的整数：'\u001b[0m\u001b[0;34m)\u001b[0m\u001b[0;34m)\u001b[0m\u001b[0;34m\u001b[0m\u001b[0;34m\u001b[0m\u001b[0m\n\u001b[0m\u001b[1;32m      9\u001b[0m     \u001b[0;32mif\u001b[0m \u001b[0mguess\u001b[0m \u001b[0;34m==\u001b[0m \u001b[0mnum\u001b[0m\u001b[0;34m:\u001b[0m\u001b[0;34m\u001b[0m\u001b[0;34m\u001b[0m\u001b[0m\n\u001b[1;32m     10\u001b[0m         \u001b[0mis_done\u001b[0m \u001b[0;34m=\u001b[0m \u001b[0;32mTrue\u001b[0m\u001b[0;34m\u001b[0m\u001b[0;34m\u001b[0m\u001b[0m\n",
      "\u001b[0;31mValueError\u001b[0m: invalid literal for int() with base 10: '1.23'"
     ]
    }
   ],
   "source": [
    "import random\n",
    "\n",
    "num = random.randint(1,100)  # 获取一个1-100间的随机数\n",
    "is_done = False # 是否猜中的标记\n",
    "count = 0 # 玩家玩了几次\n",
    "\n",
    "while not is_done:\n",
    "    guess = int(input('请输入一个[1,100]的整数：'))\n",
    "    if guess == num:\n",
    "        is_done = True\n",
    "    elif guess > num:\n",
    "        print('大了，再猜猜')\n",
    "    elif guess < num:\n",
    "        print('小了，再猜猜')\n",
    "    count += 1\n",
    "    \n",
    "print('恭喜你，猜了{}次，终于猜对了！答案是{}!'.format(count,num))"
   ]
  },
  {
   "cell_type": "markdown",
   "metadata": {},
   "source": [
    "# 解读\n",
    "\n",
    "第 8 行，我们用 input 函数来接受数据并返回字符串，用 int 函数讲字符串转换成[整形]()\n",
    "\n",
    "那要是有个用户调皮，他没有输入整数，他输入了其他的字符串呢？\n",
    "\n",
    "（**动手试试吧！**）\n",
    "\n",
    "试过之后，我们可以看到，程序抛出了一个 `ValueError`的错误，具体解释是「1.2 这个无效输入，无法被转换成 10 进制的整数」。\n",
    "\n",
    "因为我们没有对异常进行任何处理，所以当用户"
   ]
  },
  {
   "cell_type": "code",
   "execution_count": null,
   "metadata": {},
   "outputs": [],
   "source": [
    "\n"
   ]
  }
 ],
 "metadata": {
  "kernelspec": {
   "display_name": "Python 3",
   "language": "python",
   "name": "python3"
  },
  "language_info": {
   "codemirror_mode": {
    "name": "ipython",
    "version": 3
   },
   "file_extension": ".py",
   "mimetype": "text/x-python",
   "name": "python",
   "nbconvert_exporter": "python",
   "pygments_lexer": "ipython3",
   "version": "3.7.5"
  }
 },
 "nbformat": 4,
 "nbformat_minor": 2
}
